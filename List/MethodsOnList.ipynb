{
  "metadata": {
    "kernelspec": {
      "name": "python",
      "display_name": "Python (Pyodide)",
      "language": "python"
    },
    "language_info": {
      "codemirror_mode": {
        "name": "python",
        "version": 3
      },
      "file_extension": ".py",
      "mimetype": "text/x-python",
      "name": "python",
      "nbconvert_exporter": "python",
      "pygments_lexer": "ipython3",
      "version": "3.8"
    }
  },
  "nbformat_minor": 4,
  "nbformat": 4,
  "cells": [
    {
      "cell_type": "code",
      "source": "#methods to add elements to a list\n#append\n#extend\n#insert",
      "metadata": {
        "trusted": true
      },
      "outputs": [],
      "execution_count": null
    },
    {
      "cell_type": "code",
      "source": "#append --> adds element to the end of the list but it will accept only one argument\n\nlist1=[10,20,30,40]\nprint(\"elements of list: \", list1)\nprint(\"size of the list: \", len(list1))\n\nlist1.append(50)\n\nprint(\"elements of list: \", list1)\nprint(\"size of the list: \", len(list1))\n\n      ",
      "metadata": {
        "trusted": true
      },
      "outputs": [
        {
          "name": "stdout",
          "text": "elements of list:  [10, 20, 30, 40]\nsize of the list:  4\nelements of list:  [10, 20, 30, 40, 50]\nsize of the list:  5\n",
          "output_type": "stream"
        }
      ],
      "execution_count": 2
    },
    {
      "cell_type": "code",
      "source": "list1=[10,20,30,40]\nprint(\"elements of list: \", list1)\nprint(\"size of the list: \", len(list1))\n\nlist1.append((70,80))\n\nprint(\"elements of list: \", list1)\nprint(\"size of the list: \", len(list1))\n",
      "metadata": {
        "trusted": true
      },
      "outputs": [
        {
          "name": "stdout",
          "text": "elements of list:  [10, 20, 30, 40]\nsize of the list:  4\nelements of list:  [10, 20, 30, 40, (70, 80)]\nsize of the list:  5\n",
          "output_type": "stream"
        }
      ],
      "execution_count": 3
    },
    {
      "cell_type": "code",
      "source": "list1=[10,20,30,40]\nprint(\"elements of list: \", list1)\nprint(\"size of the list: \", len(list1))\n\nlist1.append(50,90) # if we pass 2 args it will give error\n\nprint(\"elements of list: \", list1)\nprint(\"size of the list: \", len(list1))\n",
      "metadata": {
        "trusted": true
      },
      "outputs": [
        {
          "name": "stdout",
          "text": "elements of list:  [10, 20, 30, 40]\nsize of the list:  4\n",
          "output_type": "stream"
        },
        {
          "ename": "<class 'TypeError'>",
          "evalue": "list.append() takes exactly one argument (2 given)",
          "traceback": [
            "\u001b[0;31m---------------------------------------------------------------------------\u001b[0m",
            "\u001b[0;31mTypeError\u001b[0m                                 Traceback (most recent call last)",
            "Cell \u001b[0;32mIn[4], line 5\u001b[0m\n\u001b[1;32m      2\u001b[0m \u001b[38;5;28mprint\u001b[39m(\u001b[38;5;124m\"\u001b[39m\u001b[38;5;124melements of list: \u001b[39m\u001b[38;5;124m\"\u001b[39m, list1)\n\u001b[1;32m      3\u001b[0m \u001b[38;5;28mprint\u001b[39m(\u001b[38;5;124m\"\u001b[39m\u001b[38;5;124msize of the list: \u001b[39m\u001b[38;5;124m\"\u001b[39m, \u001b[38;5;28mlen\u001b[39m(list1))\n\u001b[0;32m----> 5\u001b[0m \u001b[43mlist1\u001b[49m\u001b[38;5;241;43m.\u001b[39;49m\u001b[43mappend\u001b[49m\u001b[43m(\u001b[49m\u001b[38;5;241;43m50\u001b[39;49m\u001b[43m,\u001b[49m\u001b[38;5;241;43m90\u001b[39;49m\u001b[43m)\u001b[49m \u001b[38;5;66;03m# if we pass 2 args it will give error\u001b[39;00m\n\u001b[1;32m      7\u001b[0m \u001b[38;5;28mprint\u001b[39m(\u001b[38;5;124m\"\u001b[39m\u001b[38;5;124melements of list: \u001b[39m\u001b[38;5;124m\"\u001b[39m, list1)\n\u001b[1;32m      8\u001b[0m \u001b[38;5;28mprint\u001b[39m(\u001b[38;5;124m\"\u001b[39m\u001b[38;5;124msize of the list: \u001b[39m\u001b[38;5;124m\"\u001b[39m, \u001b[38;5;28mlen\u001b[39m(list1))\n",
            "\u001b[0;31mTypeError\u001b[0m: list.append() takes exactly one argument (2 given)"
          ],
          "output_type": "error"
        }
      ],
      "execution_count": 4
    },
    {
      "cell_type": "code",
      "source": "list1=[10,20,30,40]\nprint(\"elements of list: \", list1)\nprint(\"size of the list: \", len(list1))\n\nlist1.append(\"abc\") \n\nprint(\"elements of list: \", list1)\nprint(\"size of the list: \", len(list1))",
      "metadata": {
        "trusted": true
      },
      "outputs": [
        {
          "name": "stdout",
          "text": "elements of list:  [10, 20, 30, 40]\nsize of the list:  4\nelements of list:  [10, 20, 30, 40, 'abc']\nsize of the list:  5\n",
          "output_type": "stream"
        }
      ],
      "execution_count": 8
    },
    {
      "cell_type": "code",
      "source": "#extend ---. argument passed should be a sequence and will added int the end of the list\nlist1=[10,20,30,40]\nprint(\"elements of list: \", list1)\nprint(\"size of the list: \", len(list1))\n\nlist1.extend((50,60,70)) # if we pass 2 args it will give error\n\nprint(\"elements of list: \", list1)\nprint(\"size of the list: \", len(list1))\n\n",
      "metadata": {
        "trusted": true
      },
      "outputs": [
        {
          "name": "stdout",
          "text": "elements of list:  [10, 20, 30, 40]\nsize of the list:  4\nelements of list:  [10, 20, 30, 40, 50, 60, 70]\nsize of the list:  7\n",
          "output_type": "stream"
        }
      ],
      "execution_count": 5
    },
    {
      "cell_type": "code",
      "source": "list1=[10,20,30,40]\nprint(\"elements of list: \", list1)\nprint(\"size of the list: \", len(list1))\n\nlist1.extend(\"abc\") \n\nprint(\"elements of list: \", list1)\nprint(\"size of the list: \", len(list1))\n",
      "metadata": {
        "trusted": true
      },
      "outputs": [
        {
          "name": "stdout",
          "text": "elements of list:  [10, 20, 30, 40]\nsize of the list:  4\nelements of list:  [10, 20, 30, 40, 'a', 'b', 'c']\nsize of the list:  7\n",
          "output_type": "stream"
        }
      ],
      "execution_count": 7
    },
    {
      "cell_type": "code",
      "source": "list1=[10,20,30,40]\nprint(\"elements of list: \", list1)\nprint(\"size of the list: \", len(list1))\n\nlist1.extend(\"2000\") \n\nprint(\"elements of list: \", list1)\nprint(\"size of the list: \", len(list1))",
      "metadata": {
        "trusted": true
      },
      "outputs": [
        {
          "name": "stdout",
          "text": "elements of list:  [10, 20, 30, 40]\nsize of the list:  4\nelements of list:  [10, 20, 30, 40, '2', '0', '0', '0']\nsize of the list:  8\n",
          "output_type": "stream"
        }
      ],
      "execution_count": 10
    },
    {
      "cell_type": "code",
      "source": "list1=[10,20,30,40]\nprint(\"elements of list: \", list1)\nprint(\"size of the list: \", len(list1))\n\nlist1.extend(2000) #it will give error bcz 2000 is not a sequence it is an integer\n\nprint(\"elements of list: \", list1)\nprint(\"size of the list: \", len(list1))",
      "metadata": {
        "trusted": true
      },
      "outputs": [
        {
          "name": "stdout",
          "text": "elements of list:  [10, 20, 30, 40]\nsize of the list:  4\n",
          "output_type": "stream"
        },
        {
          "ename": "<class 'TypeError'>",
          "evalue": "'int' object is not iterable",
          "traceback": [
            "\u001b[0;31m---------------------------------------------------------------------------\u001b[0m",
            "\u001b[0;31mTypeError\u001b[0m                                 Traceback (most recent call last)",
            "Cell \u001b[0;32mIn[11], line 5\u001b[0m\n\u001b[1;32m      2\u001b[0m \u001b[38;5;28mprint\u001b[39m(\u001b[38;5;124m\"\u001b[39m\u001b[38;5;124melements of list: \u001b[39m\u001b[38;5;124m\"\u001b[39m, list1)\n\u001b[1;32m      3\u001b[0m \u001b[38;5;28mprint\u001b[39m(\u001b[38;5;124m\"\u001b[39m\u001b[38;5;124msize of the list: \u001b[39m\u001b[38;5;124m\"\u001b[39m, \u001b[38;5;28mlen\u001b[39m(list1))\n\u001b[0;32m----> 5\u001b[0m \u001b[43mlist1\u001b[49m\u001b[38;5;241;43m.\u001b[39;49m\u001b[43mextend\u001b[49m\u001b[43m(\u001b[49m\u001b[38;5;241;43m2000\u001b[39;49m\u001b[43m)\u001b[49m \u001b[38;5;66;03m#it will give error bcz 2000 is not a sequence it is an integer\u001b[39;00m\n\u001b[1;32m      7\u001b[0m \u001b[38;5;28mprint\u001b[39m(\u001b[38;5;124m\"\u001b[39m\u001b[38;5;124melements of list: \u001b[39m\u001b[38;5;124m\"\u001b[39m, list1)\n\u001b[1;32m      8\u001b[0m \u001b[38;5;28mprint\u001b[39m(\u001b[38;5;124m\"\u001b[39m\u001b[38;5;124msize of the list: \u001b[39m\u001b[38;5;124m\"\u001b[39m, \u001b[38;5;28mlen\u001b[39m(list1))\n",
            "\u001b[0;31mTypeError\u001b[0m: 'int' object is not iterable"
          ],
          "output_type": "error"
        }
      ],
      "execution_count": 11
    },
    {
      "cell_type": "code",
      "source": "#insert\n\nlist1=[10,20,30,40]\nprint(\"elements of list: \", list1)\nprint(\"size of the list: \", len(list1))\n\nlist1.insert(2,50) #---> insert(index,value)\n\nprint(\"elements of list: \", list1)\nprint(\"size of the list: \", len(list1))",
      "metadata": {
        "trusted": true
      },
      "outputs": [
        {
          "name": "stdout",
          "text": "elements of list:  [10, 20, 30, 40]\nsize of the list:  4\nelements of list:  [10, 20, 50, 30, 40]\nsize of the list:  5\n",
          "output_type": "stream"
        }
      ],
      "execution_count": 12
    },
    {
      "cell_type": "code",
      "source": "list1=[10,20,30,40]\nprint(\"elements of list: \", list1)\nprint(\"size of the list: \", len(list1))\n\nlist1.insert(6,80) #----> if the index is greater than the max index of list the element is added in the last\n\nprint(\"elements of list: \", list1)\nprint(\"size of the list: \", len(list1))",
      "metadata": {
        "trusted": true
      },
      "outputs": [
        {
          "name": "stdout",
          "text": "elements of list:  [10, 20, 30, 40]\nsize of the list:  4\nelements of list:  [10, 20, 30, 40, 80]\nsize of the list:  5\n",
          "output_type": "stream"
        }
      ],
      "execution_count": 13
    },
    {
      "cell_type": "code",
      "source": "#sum of elements of a list \n\nnum=152\ndigits=[]\n\nwhile num>0:\n    digits.insert(0,num%10)\n    num=num//10\n    total=sum(digits)\nprint (digits)\nprint (total)\n",
      "metadata": {
        "trusted": true
      },
      "outputs": [
        {
          "name": "stdout",
          "text": "[1, 5, 2]\n8\n",
          "output_type": "stream"
        }
      ],
      "execution_count": 28
    },
    {
      "cell_type": "code",
      "source": "#methods to remove elements from the list\n#pop()\n#remove()\n#clear()---> to remove all the elements from the list",
      "metadata": {
        "trusted": true
      },
      "outputs": [],
      "execution_count": null
    },
    {
      "cell_type": "code",
      "source": "#pop--> by default it will remove last element if index is not given\n\nlist2=[10,20,30,40,50]\nprint(\"elements of list: \", list2)\nprint(\"size of the list: \", len(list2))\nlist2.pop(2)\nprint(\"elements of list: \", list2)\nprint(\"size of the list: \", len(list2))",
      "metadata": {
        "trusted": true
      },
      "outputs": [
        {
          "name": "stdout",
          "text": "elements of list:  [10, 20, 30, 40, 50]\nsize of the list:  5\nelements of list:  [10, 20, 40, 50]\nsize of the list:  4\n",
          "output_type": "stream"
        }
      ],
      "execution_count": 29
    },
    {
      "cell_type": "code",
      "source": "list2=[10,20,30,40,50]\nprint(\"elements of list: \", list2)\nprint(\"size of the list: \", len(list2))\nlist2.pop() #---it will remove last element\nprint(\"elements of list: \", list2)\nprint(\"size of the list: \", len(list2))",
      "metadata": {
        "trusted": true
      },
      "outputs": [
        {
          "name": "stdout",
          "text": "elements of list:  [10, 20, 30, 40, 50]\nsize of the list:  5\nelements of list:  [10, 20, 30, 40]\nsize of the list:  4\n",
          "output_type": "stream"
        }
      ],
      "execution_count": 30
    },
    {
      "cell_type": "code",
      "source": "#remove -->takes value as an argument and removes first occurence of matching element\n\nlist2=[10,20,30,40,50,30,90,56,30]\nprint(\"elements of list: \", list2)\nprint(\"size of the list: \", len(list2))\nlist2.remove(30) #---it will remove first occurance of 30 not all other\nprint(\"elements of list: \", list2)\nprint(\"size of the list: \", len(list2))\n",
      "metadata": {
        "trusted": true
      },
      "outputs": [
        {
          "name": "stdout",
          "text": "elements of list:  [10, 20, 30, 40, 50, 30, 90, 56, 30]\nsize of the list:  9\nelements of list:  [10, 20, 40, 50, 30, 90, 56, 30]\nsize of the list:  8\n",
          "output_type": "stream"
        }
      ],
      "execution_count": 32
    },
    {
      "cell_type": "code",
      "source": "#raises value error if the element is not present in the list\n\nlist2=[10,20,30,40,50]\nprint(\"elements of list: \", list2)\nprint(\"size of the list: \", len(list2))\nlist2.remove(60) \nprint(\"elements of list: \", list2)\nprint(\"size of the list: \", len(list2))",
      "metadata": {
        "trusted": true
      },
      "outputs": [
        {
          "name": "stdout",
          "text": "elements of list:  [10, 20, 30, 40, 50]\nsize of the list:  5\n",
          "output_type": "stream"
        },
        {
          "ename": "<class 'ValueError'>",
          "evalue": "list.remove(x): x not in list",
          "traceback": [
            "\u001b[0;31m---------------------------------------------------------------------------\u001b[0m",
            "\u001b[0;31mValueError\u001b[0m                                Traceback (most recent call last)",
            "Cell \u001b[0;32mIn[33], line 6\u001b[0m\n\u001b[1;32m      4\u001b[0m \u001b[38;5;28mprint\u001b[39m(\u001b[38;5;124m\"\u001b[39m\u001b[38;5;124melements of list: \u001b[39m\u001b[38;5;124m\"\u001b[39m, list2)\n\u001b[1;32m      5\u001b[0m \u001b[38;5;28mprint\u001b[39m(\u001b[38;5;124m\"\u001b[39m\u001b[38;5;124msize of the list: \u001b[39m\u001b[38;5;124m\"\u001b[39m, \u001b[38;5;28mlen\u001b[39m(list2))\n\u001b[0;32m----> 6\u001b[0m \u001b[43mlist2\u001b[49m\u001b[38;5;241;43m.\u001b[39;49m\u001b[43mremove\u001b[49m\u001b[43m(\u001b[49m\u001b[38;5;241;43m60\u001b[39;49m\u001b[43m)\u001b[49m \n\u001b[1;32m      7\u001b[0m \u001b[38;5;28mprint\u001b[39m(\u001b[38;5;124m\"\u001b[39m\u001b[38;5;124melements of list: \u001b[39m\u001b[38;5;124m\"\u001b[39m, list2)\n\u001b[1;32m      8\u001b[0m \u001b[38;5;28mprint\u001b[39m(\u001b[38;5;124m\"\u001b[39m\u001b[38;5;124msize of the list: \u001b[39m\u001b[38;5;124m\"\u001b[39m, \u001b[38;5;28mlen\u001b[39m(list2))\n",
            "\u001b[0;31mValueError\u001b[0m: list.remove(x): x not in list"
          ],
          "output_type": "error"
        }
      ],
      "execution_count": 33
    },
    {
      "cell_type": "code",
      "source": "\nlist2=[10,20,30,40,50,30,90,56,30]\nprint(\"elements of list: \", list2)\n\n",
      "metadata": {
        "trusted": true
      },
      "outputs": [
        {
          "name": "stdout",
          "text": "elements of list:  [10, 20, 30, 40, 50, 30, 90, 56, 30]\n",
          "output_type": "stream"
        }
      ],
      "execution_count": 34
    },
    {
      "cell_type": "code",
      "source": "#list comprehension\nlist2=[x for x in list2 if x!=30]  #---> removes all occurences of 30\nprint(list2)",
      "metadata": {
        "trusted": true
      },
      "outputs": [
        {
          "name": "stdout",
          "text": "[10, 40, 50, 90, 56]\n",
          "output_type": "stream"
        }
      ],
      "execution_count": 36
    },
    {
      "cell_type": "code",
      "source": "#clear ----> to make list empty\n\n\nlist2=[10,20,30,40,50]\nprint(\"elements of list: \", list2)\nprint(\"size of the list: \", len(list2))\nlist2.clear() \nprint(\"elements of list: \", list2)\nprint(\"size of the list: \", len(list2))",
      "metadata": {
        "trusted": true
      },
      "outputs": [
        {
          "name": "stdout",
          "text": "elements of list:  [10, 20, 30, 40, 50]\nsize of the list:  5\nelements of list:  []\nsize of the list:  0\n",
          "output_type": "stream"
        }
      ],
      "execution_count": 37
    },
    {
      "cell_type": "code",
      "source": "#update list element\nlist2=[10,20,30,40,50]\nprint(\"elements of list: \", list2)\nlist2[2]=\"hello\"\nprint(\"elements of list: \", list2)\n\n",
      "metadata": {
        "trusted": true
      },
      "outputs": [
        {
          "name": "stdout",
          "text": "elements of list:  [10, 20, 30, 40, 50]\nelements of list:  [10, 20, 'hello', 40, 50]\n",
          "output_type": "stream"
        }
      ],
      "execution_count": 38
    },
    {
      "cell_type": "code",
      "source": "#--> tuple created using paranthesis ot by assigning comma seperated values\n#tuple is immutable, tuple can not be modified\n\ntuple1=(10,20,'hello',78,'hi')\ntuple2=10,20,'hello',78,'hi'\n\nprint(tuple1)\nprint(tuple2)",
      "metadata": {
        "trusted": true
      },
      "outputs": [],
      "execution_count": null
    }
  ]
}