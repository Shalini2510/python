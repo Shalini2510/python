{
  "metadata": {
    "kernelspec": {
      "name": "python",
      "display_name": "Python (Pyodide)",
      "language": "python"
    },
    "language_info": {
      "codemirror_mode": {
        "name": "python",
        "version": 3
      },
      "file_extension": ".py",
      "mimetype": "text/x-python",
      "name": "python",
      "nbconvert_exporter": "python",
      "pygments_lexer": "ipython3",
      "version": "3.8"
    }
  },
  "nbformat_minor": 4,
  "nbformat": 4,
  "cells": [
    {
      "cell_type": "code",
      "source": "list1=['a','b','c','d']\nlist2=list1\n\nprint(\"refernce of list1: \",id(list1))\nprint(\"refernce of list2: \",id(list2))\n\n#reference of list1 is assigned to list2 i.e. ",
      "metadata": {
        "trusted": true
      },
      "outputs": [
        {
          "name": "stdout",
          "text": "refernce of list1:  36829296\nrefernce of list2:  36829296\n",
          "output_type": "stream"
        }
      ],
      "execution_count": 2
    },
    {
      "cell_type": "code",
      "source": "#modification done to list2 will be visible in list1\nlist2[1]='m'\nprint(\"elements of list1: \", list1)\nprint(\"elements of list2: \", list2)",
      "metadata": {
        "trusted": true
      },
      "outputs": [
        {
          "name": "stdout",
          "text": "elements of list1:  ['a', 'm', 'c', 'd']\nelements of list2:  ['a', 'm', 'c', 'd']\n",
          "output_type": "stream"
        }
      ],
      "execution_count": 8
    },
    {
      "cell_type": "code",
      "source": "#how to create a copy of list1\nlist1=['a','b','c','d']\n\nlist2=list1[:]\n\nprint(\"elements of list1: \", list1)\nprint(\"elements of list2: \", list2)\n\nprint(\"refernce of list1: \",id(list1))\nprint(\"refernce of list2: \",id(list2))\n",
      "metadata": {
        "trusted": true
      },
      "outputs": [
        {
          "name": "stdout",
          "text": "elements of list1:  ['a', 'b', 'c', 'd']\nelements of list2:  ['a', 'b', 'c', 'd']\nrefernce of list1:  36845024\nrefernce of list2:  36842960\n",
          "output_type": "stream"
        }
      ],
      "execution_count": 10
    },
    {
      "cell_type": "code",
      "source": "#or we can copy using copy() function\nlist2=list1.copy()\n\n\nprint(\"elements of list1: \", list1)\nprint(\"elements of list2: \", list2)\n\nprint(\"refernce of list1: \",id(list1))\nprint(\"refernce of list2: \",id(list2))\n\n\nprint(\"refernce of element list1: \",id(list1[0]))\nprint(\"refernce of element list2: \",id(list2[0]))\n\nprint(\"refernce of 2nd element list1 before modification: \",id(list1[1]))\nprint(\"refernce of 2nd element list2 before modification: \",id(list2[1]))\n\n",
      "metadata": {
        "trusted": true
      },
      "outputs": [
        {
          "name": "stdout",
          "text": "elements of list1:  ['a', 'b', 'c', 'd']\nelements of list2:  ['a', 'b', 'c', 'd']\nrefernce of list1:  36845024\nrefernce of list2:  17720800\nrefernce of element list1:  3579140\nrefernce of element list2:  3579140\nrefernce of 2nd element list1 before modification:  3557064\nrefernce of 2nd element list2 before modification:  3557064\n",
          "output_type": "stream"
        }
      ],
      "execution_count": 16
    },
    {
      "cell_type": "code",
      "source": "#modifying immutable object of list2  ------ shallow copy\n\nlist2[1]='g'\n\nprint(\"elements of list1 after modification: \", list1)\nprint(\"elements of list2 after modification: \", list2)\n\n#after modification in list2 reference of element 2 of list2 has changed because elements of list2 are immutable \n\nprint(\"refernce of 2nd element list1 after modification: \",id(list1[1]))\nprint(\"refernce of 2nd element list2 after modification: \",id(list2[1]))\n",
      "metadata": {
        "trusted": true
      },
      "outputs": [
        {
          "name": "stdout",
          "text": "elements of list1 after modification:  ['a', 'b', 'c', 'd']\nelements of list2 after modification:  ['a', 'g', 'c', 'd']\nrefernce of 2nd element list1 after modification:  3557064\nrefernce of 2nd element list2 after modification:  2835624\n",
          "output_type": "stream"
        }
      ],
      "execution_count": 17
    },
    {
      "cell_type": "code",
      "source": "# shallow copy with mutable objects in case of mutable objects reference is not modified\n\nlist1=['a', 'b', ['c', 'd'],'e']\nlist2=list1[:]\n\n\nprint(\"elements of list1: \", list1)\nprint(\"elements of list2: \", list2)\n\nprint(\"refernce of list1: \",id(list1))\nprint(\"refernce of list2: \",id(list2))\n\nprint(\"refernce of 3rdelement of list1: \",id(list1[2]))\nprint(\"refernce of 3rdelement of list2: \",id(list2[2]))\n\n\n",
      "metadata": {
        "trusted": true
      },
      "outputs": [
        {
          "name": "stdout",
          "text": "elements of list1:  ['a', 'b', ['c', 'd'], 'e']\nelements of list2:  ['a', 'b', ['c', 'd'], 'e']\nrefernce of list1:  41812752\nrefernce of list2:  24372336\nrefernce of 3rdelement of list1:  20859368\nrefernce of 3rdelement of list2:  20859368\n",
          "output_type": "stream"
        }
      ],
      "execution_count": 18
    },
    {
      "cell_type": "code",
      "source": "#print 'd' from list2\nprint(list2[2][1])",
      "metadata": {
        "trusted": true
      },
      "outputs": [
        {
          "name": "stdout",
          "text": "d\n",
          "output_type": "stream"
        }
      ],
      "execution_count": 19
    },
    {
      "cell_type": "code",
      "source": "#replace 'd' in list2 with 'g'    #if we do any modification in elements reference dosen't changes bcz of mutable objects\nlist2[2][1]='g'\n\nprint(\"elements of list1: \", list1)\nprint(\"elements of list2: \", list2)\n\nprint(\"refernce of 3rdelement of list1: \",id(list1[2]))\nprint(\"refernce of 3rdelement of list2: \",id(list2[2]))\n",
      "metadata": {
        "trusted": true
      },
      "outputs": [
        {
          "name": "stdout",
          "text": "elements of list1:  ['a', 'b', ['c', 'g'], 'e']\nelements of list2:  ['a', 'b', ['c', 'g'], 'e']\nrefernce of 3rdelement of list1:  20859368\nrefernce of 3rdelement of list2:  20859368\n",
          "output_type": "stream"
        }
      ],
      "execution_count": 21
    },
    {
      "cell_type": "code",
      "source": "list3=['a','b','c','d']\nlist4=['a','b','c','d']\n\n\n\nprint(\"refernce of list3: \",id(list3))\nprint(\"refernce of list4: \",id(list4))\n\n#reference of both list having same elements are different",
      "metadata": {
        "trusted": true
      },
      "outputs": [
        {
          "name": "stdout",
          "text": "refernce of list3:  42565704\nrefernce of list4:  37051520\n",
          "output_type": "stream"
        }
      ],
      "execution_count": 5
    },
    {
      "cell_type": "code",
      "source": "print(\"refernce of list3 first element: \",id(list3[0]))\nprint(\"refernce of list4 first element: \",id(list4[0]))\n\n\n#reference of each element of both lists are same only if we have similar elements in both lists",
      "metadata": {
        "trusted": true
      },
      "outputs": [
        {
          "name": "stdout",
          "text": "refernce of list3 first element:  3579140\nrefernce of list4 first element:  3579140\n",
          "output_type": "stream"
        }
      ],
      "execution_count": 4
    },
    {
      "cell_type": "code",
      "source": "list5=['a','b','c','d']\nlist6=['e','f','g','h']\n\n#reference of elements of both list having different elemets are different\nprint(\"refernce of list5 first element: \",id(list5[0]))\nprint(\"refernce of list6 first element: \",id(list6[0]))\n\n\nprint(\"refernce of list5: \",id(list5))\nprint(\"refernce of list6: \",id(list6))",
      "metadata": {
        "trusted": true
      },
      "outputs": [
        {
          "name": "stdout",
          "text": "refernce of list5 first element:  3579140\nrefernce of list6 first element:  3584684\nrefernce of list5:  41792440\nrefernce of list6:  42564424\n",
          "output_type": "stream"
        }
      ],
      "execution_count": 6
    },
    {
      "cell_type": "code",
      "source": "\n# Deep Copy\n#deep copy function to be imported from copy module\nfrom copy import deepcopy\nlist1=['a','b',['c','d'],'e']\nlist2=deepcopy(list1)  #list1 and list2 have different refrences including inner elements\n\n\nprint(\"elements of list1: \", list1)\nprint(\"elements of list2: \", list2) \nprint(\"refernce of list1 2nd  element: \",id(list1[2]))\nprint(\"refernce of list2 2nd element: \",id(list2[2]))\n\n\nprint(\"refernce of list1: \",id(list1))\nprint(\"refernce of list2: \",id(list2))\n\n\n\n",
      "metadata": {
        "trusted": true
      },
      "outputs": [
        {
          "name": "stdout",
          "text": "elements of list1:  ['a', 'b', ['c', 'd'], 'e']\nelements of list2:  ['a', 'b', ['c', 'd'], 'e']\nrefernce of list1 2nd  element:  24502864\nrefernce of list2 2nd element:  42218408\nrefernce of list1:  39892744\nrefernce of list2:  19420880\n",
          "output_type": "stream"
        }
      ],
      "execution_count": 27
    },
    {
      "cell_type": "code",
      "source": "list2[2][1]='g'\n\nprint(\"elements of list1: \", list1)\nprint(\"elements of list2: \", list2)\n\nprint(\"refernce of list1 2nd  element: \",id(list1[2]))\nprint(\"refernce of list2 2nd element: \",id(list2[2]))\n\n",
      "metadata": {
        "trusted": true
      },
      "outputs": [
        {
          "name": "stdout",
          "text": "elements of list1:  ['a', 'b', ['c', 'd'], 'e']\nelements of list2:  ['a', 'b', ['c', 'g'], 'e']\nrefernce of list1 2nd  element:  19344456\nrefernce of list2 2nd element:  36990440\n",
          "output_type": "stream"
        }
      ],
      "execution_count": 26
    },
    {
      "cell_type": "code",
      "source": "#List is a mutable object i.e. reference did not change on modification\n#list1=list2  ---> reference of list1 is assigned to list2\n#create a copy of list --> list1.copy()  or  list1[:]\n#list1.copy()  ---> creates a shallow copy\n#shallow copy behaviour---> changes made to immutable objects is not visible in source and \n#                            changes made to mutable objects is visible in source.\n#                          list will get different reference but inner elements have same references\n\n#to overcome this \n#Deep copy behaviour----> changes made in target is not visible in source\n#                          both list and inner elements have different references\n",
      "metadata": {
        "trusted": true
      },
      "outputs": [],
      "execution_count": null
    }
  ]
}