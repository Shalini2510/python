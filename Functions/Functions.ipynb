{
  "metadata": {
    "kernelspec": {
      "name": "python",
      "display_name": "Python (Pyodide)",
      "language": "python"
    },
    "language_info": {
      "codemirror_mode": {
        "name": "python",
        "version": 3
      },
      "file_extension": ".py",
      "mimetype": "text/x-python",
      "name": "python",
      "nbconvert_exporter": "python",
      "pygments_lexer": "ipython3",
      "version": "3.8"
    }
  },
  "nbformat_minor": 4,
  "nbformat": 4,
  "cells": [
    {
      "cell_type": "code",
      "source": "#function\n#def func_name(arg1,arg2....):\n# documentation string\n#TODO\n",
      "metadata": {
        "trusted": true
      },
      "outputs": [],
      "execution_count": null
    },
    {
      "cell_type": "code",
      "source": "\"\"\"Examples for functions\"\"\"\n# function definition\ndef sayHello():\n    \"\"\"this is an example function\"\"\"\n    print(\"helloworld\")\n    print(\"this line is part of the function\")\nprint(\"a line outside the function\")\n\nsayHello() # function call\nsayHello()",
      "metadata": {
        "trusted": true
      },
      "outputs": [
        {
          "name": "stdout",
          "text": "a line outside the function\nhelloworld\nthis line is part of the function\nhelloworld\nthis line is part of the function\n",
          "output_type": "stream"
        }
      ],
      "execution_count": 1
    },
    {
      "cell_type": "code",
      "source": "print(sayHello.__doc__)  #return the documentation string",
      "metadata": {
        "trusted": true
      },
      "outputs": [
        {
          "name": "stdout",
          "text": "this is an example function\n",
          "output_type": "stream"
        }
      ],
      "execution_count": 2
    },
    {
      "cell_type": "code",
      "source": "def echo(n):\n    print(n)\n    \n# function call without parameter leads to error.\n# the parameter is required and can not be omitted\n#echo()\n\n\ndef display(name,age):\n    print(\"Name: {}\".format(name)) # From v 3.8 print(\"Name:{name}\")\n    print(\"Age: {}\".format(age))\n\n# The parameters can be treated as keyword in function call\n# and passing order can be modified\n\ndisplay(age=7,name='krish')\n\n\n# in the below function parameter 'r' is assgined value in the function definition and is\n# called as default argument.\ndef calculateinterest(p,n,r=12):\n    return p*n*r\n\n# no need of including default argument in the function call\ntotal = calculateinterest(1000,3) # the value for 'r' is 12\nprint(total)\n\n# The value provided for default argument is considered in function call (or) default value is overwritten\ntotal = calculateinterest(1000,3,8) # the value for 'r' is 8\nprint(total)\n\n\n# passing unknown number of parameters to a function (or) variable number of arguments\n# find the maximum out of the numbers passed. (we could even use 'max' to achieve the same).\n# this is an example for passing variable number of arguments\ndef find_max(*args):\n    # args inside the function is treated as tuple\n    m = args[0]\n    \n    for v in args:\n        if m<v: m=v\n    return m\n\nmaxval = find_max(83,405,91,372,548)\nprint(maxval)\nmaxval = find_max(83,405,91,372,548,68,230,915,29,165)\nprint(maxval)\n\ndef multipleParams(**kwargs):\n    # kwargs inside the function is treated as dictionary\n    print(kwargs)\n    \nmultipleParams(name='alice',age=10,school='cps')",
      "metadata": {
        "trusted": true
      },
      "outputs": [
        {
          "name": "stdout",
          "text": "Name: krish\nAge: 7\n36000\n24000\n548\n915\n{'name': 'alice', 'age': 10, 'school': 'cps'}\n",
          "output_type": "stream"
        }
      ],
      "execution_count": 4
    },
    {
      "cell_type": "code",
      "source": "a,b=10,20\nprint(a)\nprint(b)",
      "metadata": {
        "trusted": true
      },
      "outputs": [
        {
          "name": "stdout",
          "text": "10\n20\n",
          "output_type": "stream"
        }
      ],
      "execution_count": 5
    },
    {
      "cell_type": "code",
      "source": "a,b=10,20,30,40,50\nprint(a)\nprint(b)",
      "metadata": {
        "trusted": true
      },
      "outputs": [
        {
          "ename": "<class 'ValueError'>",
          "evalue": "too many values to unpack (expected 2)",
          "traceback": [
            "\u001b[0;31m---------------------------------------------------------------------------\u001b[0m",
            "\u001b[0;31mValueError\u001b[0m                                Traceback (most recent call last)",
            "Cell \u001b[0;32mIn[6], line 1\u001b[0m\n\u001b[0;32m----> 1\u001b[0m a,b\u001b[38;5;241m=\u001b[39m\u001b[38;5;241m10\u001b[39m,\u001b[38;5;241m20\u001b[39m,\u001b[38;5;241m30\u001b[39m,\u001b[38;5;241m40\u001b[39m,\u001b[38;5;241m50\u001b[39m\n\u001b[1;32m      2\u001b[0m \u001b[38;5;28mprint\u001b[39m(a)\n\u001b[1;32m      3\u001b[0m \u001b[38;5;28mprint\u001b[39m(b)\n",
            "\u001b[0;31mValueError\u001b[0m: too many values to unpack (expected 2)"
          ],
          "output_type": "error"
        }
      ],
      "execution_count": 6
    },
    {
      "cell_type": "code",
      "source": "#scope of a vsriable --- visibility of a variable\n#global\n#local\n#default scope is global\n#variable created inside a function will have local scope\n#'global' keyword used creating or accessing global variable from within a function",
      "metadata": {
        "trusted": true
      },
      "outputs": [],
      "execution_count": null
    },
    {
      "cell_type": "code",
      "source": "x=20\ndef f():\n    y=10\n    print(\"y inside function:\", y)\nf()\nprint(\"global scope:\", x)\nprint(\"local scope:\", y)",
      "metadata": {
        "trusted": true
      },
      "outputs": [
        {
          "name": "stdout",
          "text": "y inside function: 10\nglobal scope: 20\n",
          "output_type": "stream"
        },
        {
          "ename": "<class 'NameError'>",
          "evalue": "name 'y' is not defined",
          "traceback": [
            "\u001b[0;31m---------------------------------------------------------------------------\u001b[0m",
            "\u001b[0;31mNameError\u001b[0m                                 Traceback (most recent call last)",
            "Cell \u001b[0;32mIn[8], line 7\u001b[0m\n\u001b[1;32m      5\u001b[0m f()\n\u001b[1;32m      6\u001b[0m \u001b[38;5;28mprint\u001b[39m(\u001b[38;5;124m\"\u001b[39m\u001b[38;5;124mglobal scope:\u001b[39m\u001b[38;5;124m\"\u001b[39m, x)\n\u001b[0;32m----> 7\u001b[0m \u001b[38;5;28mprint\u001b[39m(\u001b[38;5;124m\"\u001b[39m\u001b[38;5;124mlocal scope:\u001b[39m\u001b[38;5;124m\"\u001b[39m, \u001b[43my\u001b[49m)\n",
            "\u001b[0;31mNameError\u001b[0m: name 'y' is not defined"
          ],
          "output_type": "error"
        }
      ],
      "execution_count": 8
    },
    {
      "cell_type": "code",
      "source": "x=20  #local variable in global scope\ndef f():\n    z=5\n    #x=10\n    print(\"x inside function:\", x)\n    print(\"z inside function:\", z)\nf()\nprint(\"x outside a function\", x)\n",
      "metadata": {
        "trusted": true
      },
      "outputs": [
        {
          "name": "stdout",
          "text": "x inside function: 20\nz inside function: 5\nx outside a function 20\n",
          "output_type": "stream"
        }
      ],
      "execution_count": 10
    },
    {
      "cell_type": "code",
      "source": "x=20  #local variable in global scope\ndef f():\n    z=5\n    x=10\n    print(\"x inside function:\", x) #it will display x=10 bcz function looks for local variable first if not then it takes global variable\n    print(\"z inside function:\", z)\nf()\nprint(\"x outside a function\", x)\n",
      "metadata": {
        "trusted": true
      },
      "outputs": [
        {
          "name": "stdout",
          "text": "x inside function: 10\nz inside function: 5\nx outside a function 20\n",
          "output_type": "stream"
        }
      ],
      "execution_count": 11
    },
    {
      "cell_type": "code",
      "source": "\ndef f():\n    global x  #create with global scope and define before initialization of a variable\n    z=5\n    x=10 #---> now it is accesible outside the function\n    print(\"x inside function:\", x) \n    print(\"z inside function:\", z)\nf()\nprint(\"x outside a function\", x)\n",
      "metadata": {
        "trusted": true
      },
      "outputs": [
        {
          "name": "stdout",
          "text": "x inside function: 10\nz inside function: 5\nx outside a function 10\n",
          "output_type": "stream"
        }
      ],
      "execution_count": 13
    },
    {
      "cell_type": "code",
      "source": "#variable length argument--> we can pass 'n' number of arguments in a function\n# how to create---> by adding '*' or '**\" before the parameter in the function definition\n#datatype of variable length parameter inside a function--> tuple, dictionary",
      "metadata": {
        "trusted": true
      },
      "outputs": [],
      "execution_count": null
    },
    {
      "cell_type": "code",
      "source": "x=20\ndef f():\n    global x  #create with global scope and define before initialization of a variable\n    z=5\n    x=10 #---modifying the value of x in global scope\n    print(\"x inside function:\", x) \n    print(\"z inside function:\", z)\nf()\nprint(\"x outside a function\", x)\n",
      "metadata": {
        "trusted": true
      },
      "outputs": [
        {
          "name": "stdout",
          "text": "x inside function: 10\nz inside function: 5\nx outside a function 10\n",
          "output_type": "stream"
        }
      ],
      "execution_count": 14
    }
  ]
}