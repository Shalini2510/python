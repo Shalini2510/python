{
  "metadata": {
    "kernelspec": {
      "name": "python",
      "display_name": "Python (Pyodide)",
      "language": "python"
    },
    "language_info": {
      "codemirror_mode": {
        "name": "python",
        "version": 3
      },
      "file_extension": ".py",
      "mimetype": "text/x-python",
      "name": "python",
      "nbconvert_exporter": "python",
      "pygments_lexer": "ipython3",
      "version": "3.8"
    }
  },
  "nbformat_minor": 4,
  "nbformat": 4,
  "cells": [
    {
      "cell_type": "code",
      "source": "a=1\nprint(\"the decimal form of reference of a with value 1:\",id(a))\na=2\nprint(\"the decimal form of reference of a with value 2:\",id(a))\nb=a\nprint(\"the decimal form of reference of b:\",id(b)) # references of id of a and b are same. which means they point to the same object\nc=1\nprint(\"the decimal form of reference of c:\",id(c)) # this show the integer object with value '1' is still there in the memory",
      "metadata": {
        "trusted": true
      },
      "outputs": [
        {
          "name": "stdout",
          "text": "the decimal form of reference of a with value 1: 2810908\nthe decimal form of reference of a with value 2: 2810924\nthe decimal form of reference of b: 2810924\nthe decimal form of reference of c: 2810908\n",
          "output_type": "stream"
        }
      ],
      "execution_count": 1
    },
    {
      "cell_type": "code",
      "source": "a = 5\n\nprint(\"value of a:\",a)\nprint(\"reference of a before modification:\",id(a))\n\na += 1\n\nprint(\"value of a:\",a)\nprint(\"reference of a after modification:\",id(a)) # a gets a new reference. changing the value of a create a new object\n\n\nlist1 = ['a','b','c','d']\n\nprint(\"value of list:\",list1)\nprint(\"reference of list1 before modification:\",id(list1))\n\nlist1[3]='g'\n\nprint(\"value of list:\",list1)\nprint(\"reference of list1 after modification:\",id(list1)) # list reference remains same, even after modification of list elements",
      "metadata": {
        "trusted": true
      },
      "outputs": [
        {
          "name": "stdout",
          "text": "value of a: 5\nreference of a before modification: 2810972\nvalue of a: 6\nreference of a after modification: 2810988\nvalue of list: ['a', 'b', 'c', 'd']\nreference of list1 before modification: 34458904\nvalue of list: ['a', 'b', 'c', 'g']\nreference of list1 after modification: 34458904\n",
          "output_type": "stream"
        }
      ],
      "execution_count": 2
    },
    {
      "cell_type": "code",
      "source": "\"\"\"to print the data type of a variable built-in function named 'type' is used\"\"\"\nvar1 = 150\nprint(type(var1)) # the output will be <class 'int'>\n\nvar1 = 24.81\nprint(type(var1)) # the output will be <class 'float'>\n\nvar1 = \"helloworld\"\nprint(type(var1)) # the output will be <class 'str'>\n\nvar1 = (\"hello\",\"world\",'a',25,50)\nprint(type(var1)) # the output will be <class 'tuple'>\n\nvar1 = [\"hello\",\"world\",'a',25,50]\nprint(type(var1)) # the output will be <class 'list'>\n\nvar1 = {'os':'linux','db':'postgres','language':'python'}\nprint(type(var1)) # the output will be <class 'dict'>",
      "metadata": {
        "trusted": true
      },
      "outputs": [
        {
          "name": "stdout",
          "text": "<class 'int'>\n<class 'float'>\n<class 'str'>\n<class 'tuple'>\n<class 'list'>\n<class 'dict'>\n",
          "output_type": "stream"
        }
      ],
      "execution_count": 3
    },
    {
      "cell_type": "code",
      "source": "",
      "metadata": {
        "trusted": true
      },
      "outputs": [],
      "execution_count": null
    }
  ]
}