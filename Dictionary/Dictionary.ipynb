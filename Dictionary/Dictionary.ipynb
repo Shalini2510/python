{
  "metadata": {
    "kernelspec": {
      "name": "python",
      "display_name": "Python (Pyodide)",
      "language": "python"
    },
    "language_info": {
      "codemirror_mode": {
        "name": "python",
        "version": 3
      },
      "file_extension": ".py",
      "mimetype": "text/x-python",
      "name": "python",
      "nbconvert_exporter": "python",
      "pygments_lexer": "ipython3",
      "version": "3.8"
    }
  },
  "nbformat_minor": 4,
  "nbformat": 4,
  "cells": [
    {
      "cell_type": "code",
      "source": "#dictionary--{}\n#consists of key and value pairs(termed as items)\n#key should be unique and immutable object\n#value can be any valid python object",
      "metadata": {
        "trusted": true
      },
      "outputs": [],
      "execution_count": null
    },
    {
      "cell_type": "code",
      "source": "dict1={'name':'alex','age':10, 'class' :'first'}\nprint(dict1)",
      "metadata": {
        "trusted": true
      },
      "outputs": [
        {
          "name": "stdout",
          "text": "{'name': 'alex', 'age': 10, 'class': 'first'}\n",
          "output_type": "stream"
        }
      ],
      "execution_count": 1
    },
    {
      "cell_type": "code",
      "source": "print(dict1['age'])  #--display value against the key",
      "metadata": {
        "trusted": true
      },
      "outputs": [
        {
          "name": "stdout",
          "text": "10\n",
          "output_type": "stream"
        }
      ],
      "execution_count": 2
    },
    {
      "cell_type": "code",
      "source": "#we cannot have duplicate key\ndict1={'name':'alex','age':10, 'class' :'first', 'name':'bob'}\nprint(dict1)",
      "metadata": {
        "trusted": true
      },
      "outputs": [
        {
          "name": "stdout",
          "text": "{'name': 'bob', 'age': 10, 'class': 'first'}\n",
          "output_type": "stream"
        }
      ],
      "execution_count": 3
    },
    {
      "cell_type": "code",
      "source": "\ndict1={'name':['alex','bob'],'age':[10,11],'class' :['first','second']}\nprint(dict1)",
      "metadata": {
        "trusted": true
      },
      "outputs": [
        {
          "name": "stdout",
          "text": "{'name': ['alex', 'bob'], 'age': [10, 11], 'class': ['first', 'second']}\n",
          "output_type": "stream"
        }
      ],
      "execution_count": 4
    },
    {
      "cell_type": "code",
      "source": "d1={}\nd2={'A':1,'B':2}\n\nd1 = d2.copy()\nprint (d1)",
      "metadata": {
        "trusted": true
      },
      "outputs": [
        {
          "name": "stdout",
          "text": "{'A': 1, 'B': 2}\n",
          "output_type": "stream"
        }
      ],
      "execution_count": 8
    },
    {
      "cell_type": "code",
      "source": "d1={'A':1,'B':2}\nd2={'C':3,'D':4}\nd1.update(d2)  #add items of d1 in d2\nprint(d1)",
      "metadata": {
        "trusted": true
      },
      "outputs": [
        {
          "name": "stdout",
          "text": "{'A': 1, 'B': 2, 'C': 3, 'D': 4}\n",
          "output_type": "stream"
        }
      ],
      "execution_count": 9
    },
    {
      "cell_type": "code",
      "source": "#method to remove key and value pair\nv = d1.pop('D')\nprint (v)\nprint(d1)",
      "metadata": {
        "trusted": true
      },
      "outputs": [
        {
          "name": "stdout",
          "text": "4\n{'A': 1, 'B': 2, 'C': 3}\n",
          "output_type": "stream"
        }
      ],
      "execution_count": 10
    },
    {
      "cell_type": "code",
      "source": "v = d1.pop('E')  #error is raised if key is not present\nprint (v)\nprint(d1)",
      "metadata": {
        "trusted": true
      },
      "outputs": [
        {
          "ename": "<class 'KeyError'>",
          "evalue": "'E'",
          "traceback": [
            "\u001b[0;31m---------------------------------------------------------------------------\u001b[0m",
            "\u001b[0;31mKeyError\u001b[0m                                  Traceback (most recent call last)",
            "Cell \u001b[0;32mIn[11], line 1\u001b[0m\n\u001b[0;32m----> 1\u001b[0m v \u001b[38;5;241m=\u001b[39m \u001b[43md1\u001b[49m\u001b[38;5;241;43m.\u001b[39;49m\u001b[43mpop\u001b[49m\u001b[43m(\u001b[49m\u001b[38;5;124;43m'\u001b[39;49m\u001b[38;5;124;43mE\u001b[39;49m\u001b[38;5;124;43m'\u001b[39;49m\u001b[43m)\u001b[49m  \u001b[38;5;66;03m#error is raised if key is not present\u001b[39;00m\n\u001b[1;32m      2\u001b[0m \u001b[38;5;28mprint\u001b[39m (v)\n\u001b[1;32m      3\u001b[0m \u001b[38;5;28mprint\u001b[39m(d1)\n",
            "\u001b[0;31mKeyError\u001b[0m: 'E'"
          ],
          "output_type": "error"
        }
      ],
      "execution_count": 11
    },
    {
      "cell_type": "code",
      "source": "#method to remove all key value pair\nd1.clear()\nprint(d1)",
      "metadata": {
        "trusted": true
      },
      "outputs": [
        {
          "name": "stdout",
          "text": "{}\n",
          "output_type": "stream"
        }
      ],
      "execution_count": 12
    },
    {
      "cell_type": "code",
      "source": "dict1={'name':'alex','age':10, 'class' :'first'}\nprint(dict1.get('age'))",
      "metadata": {
        "trusted": true
      },
      "outputs": [
        {
          "name": "stdout",
          "text": "10\n",
          "output_type": "stream"
        }
      ],
      "execution_count": 15
    },
    {
      "cell_type": "code",
      "source": "dict1.setdefault('lname')\nprint(dict1)",
      "metadata": {
        "trusted": true
      },
      "outputs": [
        {
          "name": "stdout",
          "text": "{'name': 'alex', 'age': 10, 'class': 'first', 'lname': None}\n",
          "output_type": "stream"
        }
      ],
      "execution_count": 18
    },
    {
      "cell_type": "code",
      "source": "dict1.setdefault('lname','pat')\nprint(dict1)",
      "metadata": {
        "trusted": true
      },
      "outputs": [
        {
          "name": "stdout",
          "text": "{'name': 'alex', 'age': 10, 'class': 'first', 'lname': None}\n",
          "output_type": "stream"
        }
      ],
      "execution_count": 19
    },
    {
      "cell_type": "code",
      "source": "\"\"\"Example for setdefault\"\"\"\n\nd1 = {'name':'alice','age':7,'class':'first'}\n\nd1.setdefault('rank','second') # creates a key named 'rank' and sets the value as 'second'\n\nprint(d1) \n\nd1.setdefault('name','bob') # as the key is already existing no action will be taken\n\nprint(d1) ",
      "metadata": {
        "trusted": true
      },
      "outputs": [
        {
          "name": "stdout",
          "text": "{'name': 'alice', 'age': 7, 'class': 'first', 'rank': 'second'}\n{'name': 'alice', 'age': 7, 'class': 'first', 'rank': 'second'}\n",
          "output_type": "stream"
        }
      ],
      "execution_count": 20
    },
    {
      "cell_type": "code",
      "source": "\"\"\"Example for dict\"\"\"\n\nlist1=[('name','alice'),('age',7),('class','first')]\n\nd1 = dict(list1)\n\nprint(d1)\n\n\"\"\"using zip function to form list of tuples\"\"\"\n\nlist2 = ['name','age','class']\nlist3 = ['alice',7,'first']\n\nlist4 = list(zip(list2,list3))\n\nprint(list4)\n\nd2 = dict(list4) \n\nprint(d2)\n\n# more simply dictionary can be formed by directly type casting zip object using dict\n\nd3 = dict(zip(list2,list3))",
      "metadata": {
        "trusted": true
      },
      "outputs": [
        {
          "name": "stdout",
          "text": "{'name': 'alice', 'age': 7, 'class': 'first'}\n[('name', 'alice'), ('age', 7), ('class', 'first')]\n{'name': 'alice', 'age': 7, 'class': 'first'}\n",
          "output_type": "stream"
        }
      ],
      "execution_count": 21
    },
    {
      "cell_type": "code",
      "source": "s1 = \"name,mark,subject\\njoe,68,maths\\ntom,59,english\\nalice,63,science\"\n# d1 = {\n#  's1': {'name':'joe','mark':'68','subject':'maths'}\n#  's2': {'name':'tom','mark':'59','subject':'english'}\n#  's3': {'name':'joe','mark':'63','subject':'science'}\n# }\nd1 = {} # master dictionary for holding information on all students\n\ndata = s1.split('\\n')\n\nprint(data)",
      "metadata": {
        "trusted": true
      },
      "outputs": [
        {
          "name": "stdout",
          "text": "['name,mark,subject', 'joe,68,maths', 'tom,59,english', 'alice,63,science']\n",
          "output_type": "stream"
        }
      ],
      "execution_count": 28
    },
    {
      "cell_type": "code",
      "source": "# get the keys for each dictionary by assigning 1st element of data to a list named 'headers'\n\nheaders = data.pop(0).split(',')\n\nprint(headers)",
      "metadata": {
        "trusted": true
      },
      "outputs": [
        {
          "name": "stdout",
          "text": "['name', 'mark', 'subject']\n",
          "output_type": "stream"
        }
      ],
      "execution_count": 29
    },
    {
      "cell_type": "code",
      "source": "count=1\nfor s in data:\n    info=s.split(',')\n    d2=dict(zip(headers,info))\n    key=f\"s{count}\"\n    print(key,d2)\n    d1.setdefault(key,d2)\n    count+=1",
      "metadata": {
        "trusted": true
      },
      "outputs": [
        {
          "name": "stdout",
          "text": "s1 {'name': 'joe', 'mark': '68', 'subject': 'maths'}\ns2 {'name': 'tom', 'mark': '59', 'subject': 'english'}\ns3 {'name': 'alice', 'mark': '63', 'subject': 'science'}\n",
          "output_type": "stream"
        }
      ],
      "execution_count": 30
    },
    {
      "cell_type": "code",
      "source": "print(d1)",
      "metadata": {
        "trusted": true
      },
      "outputs": [
        {
          "name": "stdout",
          "text": "{'s1': {'name': 'joe', 'mark': '68', 'subject': 'maths'}, 's2': {'name': 'tom', 'mark': '59', 'subject': 'english'}, 's3': {'name': 'alice', 'mark': '63', 'subject': 'science'}}\n",
          "output_type": "stream"
        }
      ],
      "execution_count": 31
    },
    {
      "cell_type": "code",
      "source": "",
      "metadata": {
        "trusted": true
      },
      "outputs": [],
      "execution_count": null
    }
  ]
}